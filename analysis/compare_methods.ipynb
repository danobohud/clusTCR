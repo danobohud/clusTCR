{
 "cells": [
  {
   "cell_type": "markdown",
   "id": "defensive-spencer",
   "metadata": {},
   "source": [
    "# **Comparison with other TCR clustering methods**\n",
    "This notebook compares the clustering quality of *clusTCR* with existing TCR clustering methods and can be used to recreate the paper's figures. To use the notebook, clone *clusTCR*'s github repository ([https://github.com/svalkiers/clusTCR](https://github.com/svalkiers/clusTCR)) into a local repository and pasting the path to the repo down here."
   ]
  },
  {
   "cell_type": "code",
   "execution_count": 1,
   "id": "extreme-beauty",
   "metadata": {},
   "outputs": [],
   "source": [
    "import os\n",
    "\n",
    "# Path to clusTCR repo goes here:\n",
    "os.chdir('/path_to_repo/clusTCR/')"
   ]
  },
  {
   "cell_type": "markdown",
   "id": "demanding-citizen",
   "metadata": {},
   "source": [
    "Import all dependencies"
   ]
  },
  {
   "cell_type": "code",
   "execution_count": 2,
   "id": "central-wilson",
   "metadata": {},
   "outputs": [],
   "source": [
    "%matplotlib inline\n",
    "import matplotlib.pyplot as plt\n",
    "import pandas as pd\n",
    "import numpy as np\n",
    "import seaborn as sns\n",
    "\n",
    "from clustcr import Clustering, datasets\n",
    "from clustcr.input.vdjdb import parse_vdjdb\n",
    "from clustcr.clustering.clustering import ClusteringResult\n",
    "from clustcr.modules.gliph2.gliph2 import GLIPH2\n",
    "from clustcr.modules.ismart.ismart import iSMART\n",
    "from clustcr.modules.tcrdist.pw_tcrdist import TCRDist, cluster_TCRDist_matrix"
   ]
  },
  {
   "cell_type": "markdown",
   "id": "expected-saturday",
   "metadata": {},
   "source": [
    "Set figure aesthetics."
   ]
  },
  {
   "cell_type": "code",
   "execution_count": 3,
   "id": "vertical-lending",
   "metadata": {},
   "outputs": [],
   "source": [
    "plt.style.use(['seaborn-white', 'seaborn-paper'])\n",
    "plt.rc('font', family='serif')\n",
    "sns.set_palette('Set1')\n",
    "sns.set_context('paper', font_scale=1.3)"
   ]
  },
  {
   "cell_type": "markdown",
   "id": "fewer-fighter",
   "metadata": {},
   "source": [
    "The following utility functions are used downstream during the benchmarking. The `get_chain_data()` function prepares CDR3 and epitope data from the VDJdb. It can be used to generate data specific for **alpha**, **beta** or **paired** chains.\n",
    "\n",
    "The `join_cdr3_v()` function generates a new identifier for a TCR by joining CDR3 and V columns into a single one. It also removes the existing CDR3 and V columns."
   ]
  },
  {
   "cell_type": "code",
   "execution_count": 4,
   "id": "alive-circus",
   "metadata": {},
   "outputs": [],
   "source": [
    "def get_chain_data(chain_name, q=0):\n",
    "\n",
    "    vdjdb = parse_vdjdb('./clustcr/input/vdjdb/vdjdb_full.txt', q=q)\n",
    "\n",
    "    if chain_name == 'alpha':\n",
    "        epitopes = vdjdb.drop(columns=['cdr3.beta', 'v.beta']).dropna().drop_duplicates()\n",
    "        epitopes = epitopes.rename(columns={'cdr3.alpha':'CDR3','v.alpha':'V','antigen.epitope':'Epitope'})\n",
    "        chain = epitopes.drop(columns='Epitope').drop_duplicates().reset_index(drop=True)\n",
    "    elif chain_name == 'beta':\n",
    "        epitopes = vdjdb.drop(columns=['cdr3.alpha', 'v.alpha']).dropna().drop_duplicates()\n",
    "        epitopes = epitopes.rename(columns={'cdr3.beta':'CDR3','v.beta':'V','antigen.epitope':'Epitope'})\n",
    "        chain = epitopes.drop(columns='Epitope').drop_duplicates().reset_index(drop=True)\n",
    "    else:\n",
    "        epitopes = vdjdb.dropna().drop_duplicates()\n",
    "        epitopes = epitopes.rename(columns={'cdr3.beta':'CDR3_beta','v.beta':'V_beta',\n",
    "                                            'cdr3.alpha':'CDR3_alpha','v.alpha':'V_alpha',\n",
    "                                            'antigen.epitope':'Epitope'})\n",
    "        chain = epitopes.drop(columns='Epitope').drop_duplicates().reset_index(drop=True)\n",
    "        \n",
    "    return chain, epitopes\n",
    "\n",
    "def join_cdr3_v(df, data_type='clusters_df'):\n",
    "    df = df.drop_duplicates()\n",
    "    joint_id = df['CDR3'] + '_' + df['V']\n",
    "    df['TCR'] = joint_id\n",
    "    df = df.drop(columns=['CDR3', 'V'])\n",
    "    df = df.rename(columns={'TCR':'CDR3'})\n",
    "    if data_type == 'clusters_df':\n",
    "        df = df[['CDR3', 'cluster']]\n",
    "    else:\n",
    "        df = df[['CDR3', 'Epitope']]\n",
    "    return df.drop_duplicates()"
   ]
  },
  {
   "cell_type": "markdown",
   "id": "straight-pontiac",
   "metadata": {},
   "source": [
    "Next, the analysis is performed. First, start by selecting the TCR chain, then run the benchmarking."
   ]
  },
  {
   "cell_type": "code",
   "execution_count": null,
   "id": "raising-excitement",
   "metadata": {},
   "outputs": [],
   "source": [
    "CHAIN = 'beta'"
   ]
  },
  {
   "cell_type": "markdown",
   "id": "virgin-hydrogen",
   "metadata": {},
   "source": [
    "Run the following code block to perform the benchmark analysis. Several metric are calculated to quantify the quality of the clustering results. These metrics include:\n",
    "- **Retention:** the number of sequences that end up in any cluster, relative to the total number of input sequences.\n",
    "- **Purity:** the degree to which sequences in the same cluster target the same antigen.\n",
    "- **Consistency:** the fraction of sequences, that target the same epitope, that are assigned to the same cluster."
   ]
  },
  {
   "cell_type": "code",
   "execution_count": 25,
   "id": "enhanced-singing",
   "metadata": {},
   "outputs": [],
   "source": [
    "benchmark = pd.DataFrame()\n",
    "\n",
    "for q in [0,1,2]:\n",
    "    \n",
    "    chain_data, epitope_data = get_chain_data(chain_name=CHAIN, q=q)\n",
    "    \n",
    "    out = Clustering(n_cpus=8).fit(chain_data.CDR3.drop_duplicates())\n",
    "    output = out.metrics(epitope_data.drop(columns=['V','subject','count']).drop_duplicates()).summary()\n",
    "    output['method'] = 'ClusTCR'\n",
    "    output['q'] = q\n",
    "    benchmark = benchmark.append(output)\n",
    "    \n",
    "    nodes, t = GLIPH2(chain_data)\n",
    "    nodes = nodes.drop(columns=['motif']).drop_duplicates()\n",
    "    output = ClusteringResult(nodes).metrics(epitope_data.drop(columns=['V','subject','count']).drop_duplicates()).summary()\n",
    "    output['method'] = 'GLIPH2'\n",
    "    output['q'] = q\n",
    "    benchmark = benchmark.append(output)\n",
    "    \n",
    "    os.chdir('/home/sebastiaan/PhD/Repositories/clusTCR/')\n",
    "    \n",
    "    ismart_data = chain_data.drop(columns=['subject', 'count'])\n",
    "    nodes, t = iSMART(ismart_data)\n",
    "    output = ClusteringResult(join_cdr3_v(nodes)).metrics(join_cdr3_v(epitope_data, data_type='epitope_data')).summary()\n",
    "    output['method'] = 'iSMART'\n",
    "    output['q'] = q\n",
    "    benchmark = benchmark.append(output)\n",
    "    \n",
    "    os.chdir('/home/sebastiaan/PhD/Repositories/clusTCR/')\n",
    "    \n",
    "    if q == 0:\n",
    "        pass\n",
    "    else:\n",
    "        d, seq, gt = TCRDist(parse_vdjdb('./clustcr/input/vdjdb/vdjdb_full.txt', q=q))\n",
    "        output = cluster_TCRDist_matrix(d, seq, gt)\n",
    "        output['method'] = 'TCRDist'\n",
    "        output['q'] = q\n",
    "        benchmark = benchmark.append(output)\n",
    "    \n",
    "    benchmark.to_csv('./results/method_comparison_accuracy_{}.tsv'.format(CHAIN), index=False, sep='\\t')"
   ]
  },
  {
   "cell_type": "markdown",
   "id": "electoral-reconstruction",
   "metadata": {},
   "source": [
    "Finally, use the following block of code to generate the figures from the manuscript."
   ]
  },
  {
   "cell_type": "code",
   "execution_count": 11,
   "id": "fatty-bernard",
   "metadata": {},
   "outputs": [
    {
     "data": {
      "image/png": "[encoded data removed]",
      "text/plain": [
       "<Figure size 460.8x316.8 with 4 Axes>"
      ]
     },
     "metadata": {},
     "output_type": "display_data"
    }
   ],
   "source": [
    "# Import results\n",
    "benchmark = pd.read_csv('./results/method_comparison_accuracy_{}.tsv'.format(CHAIN), sep='\\t')\n",
    "\n",
    "fig, ax = plt.subplots(nrows=2, ncols=2)\n",
    "\n",
    "# Set x-axis labels\n",
    "locs = [0, 1, 2]\n",
    "labels = ['All', 'Q $\\\\geq$ 1', 'Q $\\\\geq$ 2']\n",
    "plt.setp(ax, xticks=locs, xticklabels=labels),\n",
    "x = benchmark.q.unique()\n",
    "\n",
    "isolated_metric = benchmark[benchmark.metrics=='retention']\n",
    "ax[0,0].plot(x, isolated_metric[isolated_metric.method=='ClusTCR'].actual)\n",
    "ax[0,0].scatter(x, isolated_metric[isolated_metric.method=='ClusTCR'].actual, marker='s')\n",
    "ax[0,0].plot(x, isolated_metric[isolated_metric.method=='GLIPH2'].actual)\n",
    "ax[0,0].scatter(x, isolated_metric[isolated_metric.method=='GLIPH2'].actual, marker='o')\n",
    "ax[0,0].plot(x, isolated_metric[isolated_metric.method=='iSMART'].actual)\n",
    "ax[0,0].scatter(x, isolated_metric[isolated_metric.method=='iSMART'].actual, marker='v')\n",
    "ax[0,0].plot([1,2], isolated_metric[isolated_metric.method=='TCRDist'].actual)\n",
    "ax[0,0].scatter([1,2], isolated_metric[isolated_metric.method=='TCRDist'].actual, marker='x')\n",
    "ax[0,0].set_ylabel('Retention')\n",
    "\n",
    "isolated_metric = benchmark[benchmark.metrics=='purity']\n",
    "ax[0,1].plot(x, isolated_metric[isolated_metric.method=='ClusTCR'].actual)\n",
    "ax[0,1].scatter(x, isolated_metric[isolated_metric.method=='ClusTCR'].actual, marker='s')\n",
    "ax[0,1].plot(x, isolated_metric[isolated_metric.method=='GLIPH2'].actual)\n",
    "ax[0,1].scatter(x, isolated_metric[isolated_metric.method=='GLIPH2'].actual, marker='o')\n",
    "ax[0,1].plot(x, isolated_metric[isolated_metric.method=='iSMART'].actual)\n",
    "ax[0,1].scatter(x, isolated_metric[isolated_metric.method=='iSMART'].actual, marker='v')\n",
    "ax[0,1].plot([1,2], isolated_metric[isolated_metric.method=='TCRDist'].actual)\n",
    "ax[0,1].scatter([1,2], isolated_metric[isolated_metric.method=='TCRDist'].actual, marker='x')\n",
    "ax[0,1].set_ylabel('Purity')\n",
    "\n",
    "isolated_metric = benchmark[benchmark.metrics=='purity_90']\n",
    "ax[1,0].plot(x, isolated_metric[isolated_metric.method=='ClusTCR'].actual)\n",
    "ax[1,0].scatter(x, isolated_metric[isolated_metric.method=='ClusTCR'].actual, marker='s')\n",
    "ax[1,0].plot(x, isolated_metric[isolated_metric.method=='GLIPH2'].actual)\n",
    "ax[1,0].scatter(x, isolated_metric[isolated_metric.method=='GLIPH2'].actual, marker='o')\n",
    "ax[1,0].plot(x, isolated_metric[isolated_metric.method=='iSMART'].actual)\n",
    "ax[1,0].scatter(x, isolated_metric[isolated_metric.method=='iSMART'].actual, marker='v')\n",
    "ax[1,0].plot([1,2], isolated_metric[isolated_metric.method=='TCRDist'].actual)\n",
    "ax[1,0].scatter([1,2], isolated_metric[isolated_metric.method=='TCRDist'].actual, marker='x')\n",
    "ax[1,0].set_ylabel(r'$f_{purity > 0.90}$')\n",
    "\n",
    "isolated_metric = benchmark[benchmark.metrics=='consistency']\n",
    "ax[1,1].plot(x, isolated_metric[isolated_metric.method=='ClusTCR'].actual)\n",
    "ax[1,1].scatter(x, isolated_metric[isolated_metric.method=='ClusTCR'].actual, marker='s', label='ClusTCR')\n",
    "ax[1,1].plot(x, isolated_metric[isolated_metric.method=='GLIPH2'].actual)\n",
    "ax[1,1].scatter(x, isolated_metric[isolated_metric.method=='GLIPH2'].actual, marker='o', label='GLIPH2')\n",
    "ax[1,1].plot(x, isolated_metric[isolated_metric.method=='iSMART'].actual)\n",
    "ax[1,1].scatter(x, isolated_metric[isolated_metric.method=='iSMART'].actual, marker='v', label='iSMART')\n",
    "ax[1,1].plot([1,2], isolated_metric[isolated_metric.method=='TCRDist'].actual)\n",
    "ax[1,1].scatter([1,2], isolated_metric[isolated_metric.method=='TCRDist'].actual, marker='x', label='TCRDist')\n",
    "ax[1,1].set_ylabel('Consistency')\n",
    "\n",
    "ax[0,0].text(-0.25, 1.1, 'A', transform=ax[0,0].transAxes, fontweight='bold', va='top', ha='right')\n",
    "ax[0,1].text(-0.25, 1.1, 'B', transform=ax[0,1].transAxes, fontweight='bold', va='top', ha='right')\n",
    "ax[1,0].text(-0.25, 1.1, 'C', transform=ax[1,0].transAxes, fontweight='bold', va='top', ha='right')\n",
    "ax[1,1].text(-0.25, 1.1, 'D', transform=ax[1,1].transAxes, fontweight='bold', va='top', ha='right')\n",
    "\n",
    "handles, labels = ax[1,1].get_legend_handles_labels()\n",
    "fig.legend(handles, labels, ncol=4, loc='lower right', bbox_to_anchor=(.94, -.1))\n",
    "\n",
    "fig.tight_layout()\n",
    "fig.savefig('./results/figures/method_comparison_accuracy_{}.eps'.format(CHAIN), format='eps', bbox_inches='tight')"
   ]
  }
 ],
 "metadata": {
  "kernelspec": {
   "display_name": "Python 3",
   "language": "python",
   "name": "python3"
  },
  "language_info": {
   "codemirror_mode": {
    "name": "ipython",
    "version": 3
   },
   "file_extension": ".py",
   "mimetype": "text/x-python",
   "name": "python",
   "nbconvert_exporter": "python",
   "pygments_lexer": "ipython3",
   "version": "3.6.12"
  },
  "toc-autonumbering": false,
  "toc-showcode": false,
  "toc-showmarkdowntxt": true,
  "toc-showtags": false
 },
 "nbformat": 4,
 "nbformat_minor": 5
}
