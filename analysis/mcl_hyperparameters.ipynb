{
 "cells": [
  {
   "cell_type": "markdown",
   "id": "round-discretion",
   "metadata": {},
   "source": [
    "# **Markov clustering algorithm: Tuning the hyperparameters**\n",
    "\n",
    "**MCL hyperparameters:**\n",
    "* Inflation\n",
    "* Expansion"
   ]
  },
  {
   "cell_type": "code",
   "execution_count": 1,
   "id": "above-enterprise",
   "metadata": {},
   "outputs": [],
   "source": [
    "import os\n",
    "\n",
    "os.chdir('/home/sebastiaan/PhD/Repositories/clusTCR/')"
   ]
  },
  {
   "cell_type": "markdown",
   "id": "aggregate-vitamin",
   "metadata": {},
   "source": [
    "import all dependencies"
   ]
  },
  {
   "cell_type": "code",
   "execution_count": null,
   "id": "canadian-spain",
   "metadata": {},
   "outputs": [],
   "source": [
    "import pandas as pd\n",
    "import numpy as np\n",
    "import matplotlib.pyplot as plt\n",
    "import seaborn as sns\n",
    "import time\n",
    "\n",
    "from clustcr import Clustering, datasets"
   ]
  },
  {
   "cell_type": "markdown",
   "id": "bulgarian-internet",
   "metadata": {},
   "source": [
    "Figure aesthetics"
   ]
  },
  {
   "cell_type": "code",
   "execution_count": 2,
   "id": "recent-architecture",
   "metadata": {},
   "outputs": [],
   "source": [
    "plt.style.use(['seaborn-white', 'seaborn-paper'])\n",
    "plt.rc('font', family='serif')\n",
    "sns.set_palette('Set1')\n",
    "sns.set_context('paper', font_scale=1.3)    # single-column figure"
   ]
  },
  {
   "cell_type": "markdown",
   "id": "higher-teens",
   "metadata": {},
   "source": [
    "## **Evaluate inflation and expansion**"
   ]
  },
  {
   "cell_type": "markdown",
   "id": "tired-athens",
   "metadata": {},
   "source": [
    "Define parameter range."
   ]
  },
  {
   "cell_type": "code",
   "execution_count": null,
   "id": "smaller-clerk",
   "metadata": {},
   "outputs": [],
   "source": [
    "inflation_range = np.round(np.arange(1.2,2.1,0.1),1)\n",
    "expansion_range = np.round(np.arange(2,11,1),0)\n",
    "\n",
    "# Generate list of hyperparameter pairs to test\n",
    "params = []\n",
    "for i in inflation_range:\n",
    "    for j in expansion_range:\n",
    "        params.append([i, j])"
   ]
  },
  {
   "cell_type": "code",
   "execution_count": 1,
   "id": "placed-worst",
   "metadata": {},
   "outputs": [],
   "source": [
    "# Data\n",
    "cdr3 = datasets.vdjdb_beta()\n",
    "epitopes = datasets.vdjdb_beta(epitopes=True)\n",
    "        \n",
    "# Scan hyperparameter space\n",
    "res = []\n",
    "for pair in params:\n",
    "    t0 = time.time()\n",
    "    mcl = Clustering(mcl_params=pair, n_cpus=8).fit(cdr3)\n",
    "    t = time.time() - t0\n",
    "    clusters = mcl.clusters_df\n",
    "    metrics = mcl.metrics(epitopes)\n",
    "    summ = metrics.summary()\n",
    "    summ['inflation'] = pair[0]\n",
    "    summ['expansion'] = pair[1]\n",
    "    summ['time'] = t\n",
    "    res.append(summ)\n",
    "    \n",
    "# Write output to file\n",
    "res = pd.concat(res)\n",
    "res.to_csv('./results/mcl_hyperparameters.tsv', sep='\\t', index=False)"
   ]
  },
  {
   "cell_type": "markdown",
   "id": "demanding-things",
   "metadata": {},
   "source": [
    "## **Plot results**"
   ]
  },
  {
   "cell_type": "code",
   "execution_count": 62,
   "id": "confused-finder",
   "metadata": {},
   "outputs": [
    {
     "data": {
      "image/png": "[encoded data removed]",
      "text/plain": [
       "<Figure size 460.8x316.8 with 8 Axes>"
      ]
     },
     "metadata": {},
     "output_type": "display_data"
    }
   ],
   "source": [
    "data = pd.read_csv('./results/mcl_hyperparameters.tsv', sep='\\t')\n",
    "fig, ((ax1, ax2), (ax3, ax4)) = plt.subplots(ncols=2,nrows=2)\n",
    "\n",
    "# Purity\n",
    "metric_data = data[data['metrics']=='purity']\n",
    "inflation = np.round(metric_data.inflation.unique(),1)\n",
    "expansion = metric_data.expansion.unique()\n",
    "values = np.asarray(metric_data.pivot(index=\"inflation\", columns=\"expansion\", values=\"actual\"))\n",
    "im = ax1.imshow(values, cmap='viridis')\n",
    "ax1.set_xticks(np.arange(len(expansion))[::2])\n",
    "ax1.set_yticks(np.arange(len(inflation))[::2])\n",
    "ax1.set_xticklabels(\"\")\n",
    "ax1.set_yticklabels(inflation[::2])\n",
    "ax1.set_xlabel('')\n",
    "ax1.set_ylabel('Inflation')\n",
    "fig.colorbar(im, ax=ax1)\n",
    "ax1.set_title(\"Purity\")\n",
    "\n",
    "# Purity_90\n",
    "metric_data = data[data['metrics']=='purity_90']\n",
    "inflation = np.round(metric_data.inflation.unique(),1)\n",
    "expansion = metric_data.expansion.unique()\n",
    "values = np.asarray(metric_data.pivot(index=\"inflation\", columns=\"expansion\", values=\"actual\"))\n",
    "im = ax2.imshow(values, cmap='viridis')\n",
    "ax2.set_xticks(np.arange(len(expansion))[::2])\n",
    "ax2.set_yticks(np.arange(len(inflation))[::2])\n",
    "ax2.set_xticklabels(\"\")\n",
    "ax2.set_yticklabels(inflation[::2])\n",
    "ax2.set_xlabel('')\n",
    "ax2.set_ylabel('Inflation')\n",
    "fig.colorbar(im, ax=ax2)\n",
    "ax2.set_title(r\"$f_{purity > 0.90}$\")\n",
    "\n",
    "# Consistency\n",
    "\n",
    "metric_data = data[data['metrics']=='consistency']\n",
    "inflation = np.round(metric_data.inflation.unique(),1)\n",
    "expansion = metric_data.expansion.unique()\n",
    "values = np.asarray(metric_data.pivot(index=\"inflation\", columns=\"expansion\", values=\"actual\"))\n",
    "im = ax3.imshow(values, cmap='viridis')\n",
    "ax3.set_xticks(np.arange(len(expansion))[::2])\n",
    "ax3.set_yticks(np.arange(len(inflation))[::2])\n",
    "ax3.set_xticklabels(expansion[::2])\n",
    "ax3.set_yticklabels(inflation[::2])\n",
    "ax3.set_xlabel('Expansion')\n",
    "ax3.set_ylabel('Inflation')\n",
    "fig.colorbar(im, ax=ax3)\n",
    "ax3.set_title(\"Consistency\")\n",
    "\n",
    "# Runtime\n",
    "metric_data = data[data['metrics']=='retention']\n",
    "inflation = np.round(metric_data.inflation.unique(),1)\n",
    "expansion = metric_data.expansion.unique()\n",
    "values = np.asarray(metric_data.pivot(index=\"inflation\", columns=\"expansion\", values=\"time\"))\n",
    "im = ax4.imshow(values, cmap='viridis')\n",
    "ax4.set_xticks(np.arange(len(expansion))[::2])\n",
    "ax4.set_yticks(np.arange(len(inflation))[::2])\n",
    "ax4.set_xticklabels(expansion[::2])\n",
    "ax4.set_yticklabels(inflation[::2])\n",
    "ax4.set_xlabel('Expansion')\n",
    "ax4.set_ylabel('Inflation')\n",
    "fig.colorbar(im, ax=ax4)\n",
    "ax4.set_title(\"Runtime (s)\")\n",
    "\n",
    "ax1.text(-0.7, 1.5, 'B', transform=ax1.transAxes,fontsize=20, fontweight='bold', va='top', ha='right')\n",
    "\n",
    "fig.tight_layout()\n",
    "fig.savefig('results/figures/mcl_hyperparameters.eps', format='eps', bbox_inches='tight')"
   ]
  }
 ],
 "metadata": {
  "kernelspec": {
   "display_name": "Python 3",
   "language": "python",
   "name": "python3"
  },
  "language_info": {
   "codemirror_mode": {
    "name": "ipython",
    "version": 3
   },
   "file_extension": ".py",
   "mimetype": "text/x-python",
   "name": "python",
   "nbconvert_exporter": "python",
   "pygments_lexer": "ipython3",
   "version": "3.6.12"
  }
 },
 "nbformat": 4,
 "nbformat_minor": 5
}
