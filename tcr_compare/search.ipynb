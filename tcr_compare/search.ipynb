{
 "cells": [
  {
   "cell_type": "code",
   "execution_count": 1,
   "metadata": {},
   "outputs": [],
   "source": [
    "import pandas as pd\n",
    "import numpy as np"
   ]
  },
  {
   "cell_type": "code",
   "execution_count": 118,
   "metadata": {},
   "outputs": [],
   "source": [
    "from cluster_functions import load_vdjdb\n",
    "import os\n",
    "vdjdb = load_vdjdb(os.path.join(os.getcwd(),'data/vdjdb_full.txt'))"
   ]
  },
  {
   "cell_type": "code",
   "execution_count": 35,
   "metadata": {},
   "outputs": [],
   "source": [
    "nodelist = '/Users/danhudson/Documents/Academic/Oxford/Oxford_DPhil/Software/clusTCR/tcr_compare/cytoscape/20220626_120653_typhi.csv/clustcr_beta_typhi.csv_nodelist.txt'"
   ]
  },
  {
   "cell_type": "code",
   "execution_count": 36,
   "metadata": {},
   "outputs": [],
   "source": [
    "nodes = pd.read_csv(nodelist)"
   ]
  }
 ],
 "metadata": {
  "interpreter": {
   "hash": "3c7765b43df94048ac26994637e5c257f45f7967c454318d1016d737cb59edba"
  },
  "kernelspec": {
   "display_name": "Python 3.8.12 ('clusTCR5')",
   "language": "python",
   "name": "python3"
  },
  "language_info": {
   "codemirror_mode": {
    "name": "ipython",
    "version": 3
   },
   "file_extension": ".py",
   "mimetype": "text/x-python",
   "name": "python",
   "nbconvert_exporter": "python",
   "pygments_lexer": "ipython3",
   "version": "3.8.12"
  },
  "orig_nbformat": 4
 },
 "nbformat": 4,
 "nbformat_minor": 2
}
