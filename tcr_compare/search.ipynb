{
 "cells": [
  {
   "cell_type": "code",
   "execution_count": 1,
   "metadata": {},
   "outputs": [],
   "source": [
    "import pandas as pd\n",
    "import numpy as np"
   ]
  },
  {
   "cell_type": "code",
   "execution_count": 4,
   "metadata": {},
   "outputs": [],
   "source": [
    "input_file = 'data/ORF3a_data.csv'\n",
    "tcrs=pd.read_csv(input_file)\n",
    "refs = pd.read_csv('data/combined_cdr3.csv')\n"
   ]
  },
  {
   "cell_type": "code",
   "execution_count": 13,
   "metadata": {},
   "outputs": [],
   "source": [
    "out=[]\n",
    "with open ('data/MIRA_DATA_FULL.txt','r',encoding='latin') as f:\n",
    "    for line in f.readlines():\n",
    "        out.append(line.strip('\\n').split('\\t'))\n",
    "        "
   ]
  },
  {
   "cell_type": "code",
   "execution_count": 28,
   "metadata": {},
   "outputs": [],
   "source": [
    "mira = pd.DataFrame(out[1:],columns=out[0])"
   ]
  },
  {
   "cell_type": "code",
   "execution_count": 46,
   "metadata": {},
   "outputs": [],
   "source": [
    "cdr3,v,j =[[x.split('+')[i] for x in mira['TCR'].values] for i in range(0,3,1)]"
   ]
  },
  {
   "cell_type": "code",
   "execution_count": 48,
   "metadata": {},
   "outputs": [],
   "source": [
    "cols=[cdr3,v,j]"
   ]
  },
  {
   "cell_type": "code",
   "execution_count": 59,
   "metadata": {},
   "outputs": [],
   "source": [
    "for i,col in enumerate(['cdr3','v','j']):\n",
    "        mira[col]=cols[i]\n",
    "        if i!=0:\n",
    "                mira[col]=['*'.join(x.split('-')[:2]) for x in mira[col].values]"
   ]
  },
  {
   "cell_type": "code",
   "execution_count": 66,
   "metadata": {},
   "outputs": [
    {
     "data": {
      "text/plain": [
       "array(['A*02:01:01', 'A*11:01:01', 'A*02:01', 'A*03:01', 'A*11:01',\n",
       "       'A*24:02:01', 'A*03:01:01', 'A*01:01', 'A*01:01:01', 'A*24:07:01',\n",
       "       'A*32:01:01', 'NA', 'A*02:13', 'A*26:02:01', 'A*02:10',\n",
       "       'A*02:03:01', 'A*32:01'], dtype=object)"
      ]
     },
     "execution_count": 66,
     "metadata": {},
     "output_type": "execute_result"
    }
   ],
   "source": [
    "mira['HLA-A'].unique()"
   ]
  },
  {
   "cell_type": "code",
   "execution_count": 68,
   "metadata": {},
   "outputs": [
    {
     "name": "stdout",
     "output_type": "stream",
     "text": [
      "0\n"
     ]
    }
   ],
   "source": [
    "l=len(mira)\n",
    "mira=mira.dropna(subset=['cdr3','v','j','HLA-A'])\n",
    "print(l-len(mira))\n"
   ]
  },
  {
   "cell_type": "code",
   "execution_count": 67,
   "metadata": {},
   "outputs": [],
   "source": [
    "mira['Epitope']=['HLA-'+mira.iloc[i]['HLA-A']+'_'+mira.iloc[i]['Peptide']+'_'+mira.iloc[i]['ORF Coverage']+'_SARS-CoV-2' for i in range(len(mira))]"
   ]
  },
  {
   "cell_type": "code",
   "execution_count": 85,
   "metadata": {},
   "outputs": [],
   "source": [
    "mira=mira.rename(columns={'cdr3':'cdr3.beta',\n",
    "                          'v':'v.beta',\n",
    "                          'j':'j.beta',\n",
    "                          'HLA-A': 'mhc.a',\n",
    "                          'HLA-A_1': 'mhc.a2',\n",
    "                          'HLA-B':'mhc.b',\n",
    "                          'HLA-B_1':'mhc.b2',\n",
    "                          'HLA-C': 'mhc.c',\n",
    "                          'HLA-C_1': 'mhc.c2',\n",
    "                          'ORF Coverage': 'antigen.gene',\n",
    "                          'Cohort': 'condition',\n",
    "                          'Subject':'subject',\n",
    "                                })\n",
    "                                "
   ]
  },
  {
   "cell_type": "markdown",
   "metadata": {},
   "source": []
  },
  {
   "cell_type": "code",
   "execution_count": 79,
   "metadata": {},
   "outputs": [],
   "source": [
    "mira['species']=['SARS-CoV-2']*len(mira)"
   ]
  },
  {
   "cell_type": "code",
   "execution_count": 94,
   "metadata": {},
   "outputs": [],
   "source": [
    "mira['subject:condition']=[mira.iloc[i]['subject']+':'+mira.iloc[i]['condition'] for i in range(len(mira))]"
   ]
  },
  {
   "cell_type": "code",
   "execution_count": 95,
   "metadata": {},
   "outputs": [],
   "source": [
    "mira.to_csv('data/MIRA_cleaned.csv')"
   ]
  },
  {
   "cell_type": "code",
   "execution_count": 117,
   "metadata": {},
   "outputs": [
    {
     "name": "stderr",
     "output_type": "stream",
     "text": [
      "/var/folders/29/8tvn77zx2k39kgt070rqknwr0000gq/T/ipykernel_54665/1332532093.py:1: DtypeWarning: Columns (7,8,25,26,27,28,29,30) have mixed types. Specify dtype option on import or set low_memory=False.\n",
      "  mira=pd.read_csv('data/MIRA_cleaned.csv',index_col=0)\n"
     ]
    }
   ],
   "source": [
    "mira=pd.read_csv('data/MIRA_cleaned.csv',index_col=0)"
   ]
  },
  {
   "cell_type": "code",
   "execution_count": 118,
   "metadata": {},
   "outputs": [],
   "source": [
    "from cluster_functions import load_vdjdb\n",
    "import os\n",
    "vdjdb = load_vdjdb(os.path.join(os.getcwd(),'data/vdjdb_full.txt'))"
   ]
  },
  {
   "cell_type": "code",
   "execution_count": 119,
   "metadata": {},
   "outputs": [],
   "source": [
    "mira['antigen.species']=mira['species']"
   ]
  },
  {
   "cell_type": "code",
   "execution_count": 122,
   "metadata": {},
   "outputs": [],
   "source": [
    "mira.to_csv('data/mira_cleaned.csv')"
   ]
  },
  {
   "cell_type": "code",
   "execution_count": 124,
   "metadata": {},
   "outputs": [],
   "source": [
    "combined = pd.concat([vdjdb,mira])[vdjdb.columns]"
   ]
  },
  {
   "cell_type": "code",
   "execution_count": 126,
   "metadata": {},
   "outputs": [],
   "source": [
    "combined=combined.replace(np.nan,'NA')"
   ]
  },
  {
   "cell_type": "code",
   "execution_count": 128,
   "metadata": {},
   "outputs": [],
   "source": [
    "combined.to_csv('data/vdjdb_mira.csv')"
   ]
  },
  {
   "cell_type": "code",
   "execution_count": 21,
   "metadata": {},
   "outputs": [
    {
     "name": "stdout",
     "output_type": "stream",
     "text": [
      "cdr3.alpha {<class 'str'>, <class 'float'>}\n",
      "v.alpha {<class 'str'>, <class 'float'>}\n",
      "j.alpha {<class 'str'>, <class 'float'>}\n",
      "cdr3.beta {<class 'str'>}\n",
      "v.beta {<class 'str'>, <class 'float'>}\n",
      "j.beta {<class 'str'>, <class 'float'>}\n"
     ]
    }
   ],
   "source": [
    "for col in ['cdr3.alpha','v.alpha','j.alpha',\n",
    "            'cdr3.beta','v.beta','j.beta']:\n",
    "            print(col, set([type(x) for x in combined[col].unique()]))"
   ]
  },
  {
   "cell_type": "code",
   "execution_count": 18,
   "metadata": {},
   "outputs": [
    {
     "name": "stdout",
     "output_type": "stream",
     "text": [
      "7020\n"
     ]
    }
   ],
   "source": [
    "nans=[x for x in combined['cdr3.beta'].values if type(x) == float]\n",
    "print(len(nans))"
   ]
  },
  {
   "cell_type": "code",
   "execution_count": 23,
   "metadata": {},
   "outputs": [],
   "source": [
    "combined=combined[~combined['cdr3.beta'].isin(np.concatenate([nans,vnans,jnans]))]"
   ]
  },
  {
   "cell_type": "code",
   "execution_count": 22,
   "metadata": {},
   "outputs": [
    {
     "name": "stdout",
     "output_type": "stream",
     "text": [
      "9 38\n"
     ]
    }
   ],
   "source": [
    "vnans, jnans = [[x for x in combined[col] if type(x)==float] for col in ['v.beta','j.beta']]\n",
    "print(*[len(x) for x in [vnans,jnans]])"
   ]
  },
  {
   "cell_type": "code",
   "execution_count": 25,
   "metadata": {},
   "outputs": [],
   "source": [
    "combined = combined.drop(columns=['cdr3.alpha','v.alpha','j.alpha'])"
   ]
  },
  {
   "cell_type": "code",
   "execution_count": 27,
   "metadata": {},
   "outputs": [],
   "source": [
    "combined=combined.replace(np.nan,'NA')"
   ]
  },
  {
   "cell_type": "code",
   "execution_count": 28,
   "metadata": {},
   "outputs": [
    {
     "data": {
      "text/plain": [
       "cdr3.beta                         CASSYLPGQGDHYSNQPQHF\n",
       "v.beta                                       TRBV13*01\n",
       "d.beta                                              NA\n",
       "j.beta                                      TRBJ1-5*01\n",
       "species                                    HomoSapiens\n",
       "mhc.a                                         HLA-B*08\n",
       "mhc.b                                              B2M\n",
       "mhc.class                                         MHCI\n",
       "Epitope                    HLA-B*08_FLKEKGGL_Nef_HIV-1\n",
       "antigen.gene                                       Nef\n",
       "antigen.species                                  HIV-1\n",
       "condition                       antigen-loaded-targets\n",
       "subject                                            005\n",
       "subject:condition                            005:vdjdb\n",
       "Unnamed: 0                                          NA\n",
       "Experiment                                          NA\n",
       "Cell Type                                           NA\n",
       "Target Type                                         NA\n",
       "Age                                                 NA\n",
       "Gender                                              NA\n",
       "Race                                                NA\n",
       "mhc.a2                                              NA\n",
       "mhc.b2                                              NA\n",
       "mhc.c                                               NA\n",
       "mhc.c2                                              NA\n",
       "DPA1                                                NA\n",
       "DPA1_1                                              NA\n",
       "DPB1                                                NA\n",
       "DPB1_1                                              NA\n",
       "DQA1                                                NA\n",
       "DQA1_1                                              NA\n",
       "DQB1                                                NA\n",
       "DQB1_1                                              NA\n",
       "DRB1                                                NA\n",
       "DRB1_1                                              NA\n",
       "DRB3                                                NA\n",
       "DRB3_1                                              NA\n",
       "DRB4                                                NA\n",
       "DRB4_1                                              NA\n",
       "DRB5                                                NA\n",
       "DRB5_1                                              NA\n",
       "TCR                                                 NA\n",
       "TCR Nucleotide Sequence                             NA\n",
       "Peptide                                             NA\n",
       "Start Index in Genome                               NA\n",
       "End Index in Genome                                 NA\n",
       "Data_Class                                          NA\n",
       "Pub_Priv_TCR                                        NA\n",
       "Name: 1, dtype: object"
      ]
     },
     "execution_count": 28,
     "metadata": {},
     "output_type": "execute_result"
    }
   ],
   "source": [
    "combined.iloc[0]"
   ]
  },
  {
   "cell_type": "code",
   "execution_count": 109,
   "metadata": {},
   "outputs": [],
   "source": [
    "idx = [combined.iloc[i].name for i in range(len(combined)) if type(combined.iloc[i]['cdr3.beta'])==float]"
   ]
  },
  {
   "cell_type": "code",
   "execution_count": 112,
   "metadata": {},
   "outputs": [],
   "source": [
    "combined.iloc[idx]"
   ]
  },
  {
   "cell_type": "code",
   "execution_count": 110,
   "metadata": {},
   "outputs": [
    {
     "ename": "KeyboardInterrupt",
     "evalue": "",
     "output_type": "error",
     "traceback": [
      "\u001b[0;31m---------------------------------------------------------------------------\u001b[0m",
      "\u001b[0;31mKeyboardInterrupt\u001b[0m                         Traceback (most recent call last)",
      "\u001b[0;32m/var/folders/29/8tvn77zx2k39kgt070rqknwr0000gq/T/ipykernel_5204/678785004.py\u001b[0m in \u001b[0;36m<module>\u001b[0;34m\u001b[0m\n\u001b[0;32m----> 1\u001b[0;31m \u001b[0mcombined\u001b[0m\u001b[0;34m[\u001b[0m\u001b[0mcombined\u001b[0m\u001b[0;34m.\u001b[0m\u001b[0mindex\u001b[0m\u001b[0;34m.\u001b[0m\u001b[0misin\u001b[0m\u001b[0;34m(\u001b[0m\u001b[0midx\u001b[0m\u001b[0;34m)\u001b[0m\u001b[0;34m]\u001b[0m\u001b[0;34m\u001b[0m\u001b[0;34m\u001b[0m\u001b[0m\n\u001b[0m",
      "\u001b[0;32m~/opt/miniconda3/envs/clustcr/lib/python3.8/site-packages/pandas/core/frame.py\u001b[0m in \u001b[0;36m__getitem__\u001b[0;34m(self, key)\u001b[0m\n\u001b[1;32m   3495\u001b[0m         \u001b[0;32mif\u001b[0m \u001b[0mcom\u001b[0m\u001b[0;34m.\u001b[0m\u001b[0mis_bool_indexer\u001b[0m\u001b[0;34m(\u001b[0m\u001b[0mkey\u001b[0m\u001b[0;34m)\u001b[0m\u001b[0;34m:\u001b[0m\u001b[0;34m\u001b[0m\u001b[0;34m\u001b[0m\u001b[0m\n\u001b[1;32m   3496\u001b[0m             \u001b[0;32mreturn\u001b[0m \u001b[0mself\u001b[0m\u001b[0;34m.\u001b[0m\u001b[0m_getitem_bool_array\u001b[0m\u001b[0;34m(\u001b[0m\u001b[0mkey\u001b[0m\u001b[0;34m)\u001b[0m\u001b[0;34m\u001b[0m\u001b[0;34m\u001b[0m\u001b[0m\n\u001b[0;32m-> 3497\u001b[0;31m \u001b[0;34m\u001b[0m\u001b[0m\n\u001b[0m\u001b[1;32m   3498\u001b[0m         \u001b[0;31m# We are left with two options: a single key, and a collection of keys,\u001b[0m\u001b[0;34m\u001b[0m\u001b[0;34m\u001b[0m\u001b[0;34m\u001b[0m\u001b[0m\n\u001b[1;32m   3499\u001b[0m         \u001b[0;31m# We interpret tuples as collections only for non-MultiIndex\u001b[0m\u001b[0;34m\u001b[0m\u001b[0;34m\u001b[0m\u001b[0;34m\u001b[0m\u001b[0m\n",
      "\u001b[0;32m~/opt/miniconda3/envs/clustcr/lib/python3.8/site-packages/pandas/core/frame.py\u001b[0m in \u001b[0;36m_getitem_bool_array\u001b[0;34m(self, key)\u001b[0m\n\u001b[1;32m   3550\u001b[0m         \u001b[0mindexer\u001b[0m \u001b[0;34m=\u001b[0m \u001b[0mkey\u001b[0m\u001b[0;34m.\u001b[0m\u001b[0mnonzero\u001b[0m\u001b[0;34m(\u001b[0m\u001b[0;34m)\u001b[0m\u001b[0;34m[\u001b[0m\u001b[0;36m0\u001b[0m\u001b[0;34m]\u001b[0m\u001b[0;34m\u001b[0m\u001b[0;34m\u001b[0m\u001b[0m\n\u001b[1;32m   3551\u001b[0m         \u001b[0;32mreturn\u001b[0m \u001b[0mself\u001b[0m\u001b[0;34m.\u001b[0m\u001b[0m_take_with_is_copy\u001b[0m\u001b[0;34m(\u001b[0m\u001b[0mindexer\u001b[0m\u001b[0;34m,\u001b[0m \u001b[0maxis\u001b[0m\u001b[0;34m=\u001b[0m\u001b[0;36m0\u001b[0m\u001b[0;34m)\u001b[0m\u001b[0;34m\u001b[0m\u001b[0;34m\u001b[0m\u001b[0m\n\u001b[0;32m-> 3552\u001b[0;31m \u001b[0;34m\u001b[0m\u001b[0m\n\u001b[0m\u001b[1;32m   3553\u001b[0m     \u001b[0;32mdef\u001b[0m \u001b[0m_getitem_multilevel\u001b[0m\u001b[0;34m(\u001b[0m\u001b[0mself\u001b[0m\u001b[0;34m,\u001b[0m \u001b[0mkey\u001b[0m\u001b[0;34m)\u001b[0m\u001b[0;34m:\u001b[0m\u001b[0;34m\u001b[0m\u001b[0;34m\u001b[0m\u001b[0m\n\u001b[1;32m   3554\u001b[0m         \u001b[0;31m# self.columns is a MultiIndex\u001b[0m\u001b[0;34m\u001b[0m\u001b[0;34m\u001b[0m\u001b[0;34m\u001b[0m\u001b[0m\n",
      "\u001b[0;32m~/opt/miniconda3/envs/clustcr/lib/python3.8/site-packages/pandas/core/generic.py\u001b[0m in \u001b[0;36m_take_with_is_copy\u001b[0;34m(self, indices, axis)\u001b[0m\n\u001b[1;32m   3726\u001b[0m         \u001b[0mSee\u001b[0m \u001b[0mthe\u001b[0m \u001b[0mdocstring\u001b[0m \u001b[0mof\u001b[0m\u001b[0;31m \u001b[0m\u001b[0;31m`\u001b[0m\u001b[0mtake\u001b[0m\u001b[0;31m`\u001b[0m \u001b[0;32mfor\u001b[0m \u001b[0mfull\u001b[0m \u001b[0mexplanation\u001b[0m \u001b[0mof\u001b[0m \u001b[0mthe\u001b[0m \u001b[0mparameters\u001b[0m\u001b[0;34m.\u001b[0m\u001b[0;34m\u001b[0m\u001b[0;34m\u001b[0m\u001b[0m\n\u001b[1;32m   3727\u001b[0m         \"\"\"\n\u001b[0;32m-> 3728\u001b[0;31m         \u001b[0mresult\u001b[0m \u001b[0;34m=\u001b[0m \u001b[0mself\u001b[0m\u001b[0;34m.\u001b[0m\u001b[0mtake\u001b[0m\u001b[0;34m(\u001b[0m\u001b[0mindices\u001b[0m\u001b[0;34m=\u001b[0m\u001b[0mindices\u001b[0m\u001b[0;34m,\u001b[0m \u001b[0maxis\u001b[0m\u001b[0;34m=\u001b[0m\u001b[0maxis\u001b[0m\u001b[0;34m)\u001b[0m\u001b[0;34m\u001b[0m\u001b[0;34m\u001b[0m\u001b[0m\n\u001b[0m\u001b[1;32m   3729\u001b[0m         \u001b[0;31m# Maybe set copy if we didn't actually change the index.\u001b[0m\u001b[0;34m\u001b[0m\u001b[0;34m\u001b[0m\u001b[0;34m\u001b[0m\u001b[0m\n\u001b[1;32m   3730\u001b[0m         \u001b[0;32mif\u001b[0m \u001b[0;32mnot\u001b[0m \u001b[0mresult\u001b[0m\u001b[0;34m.\u001b[0m\u001b[0m_get_axis\u001b[0m\u001b[0;34m(\u001b[0m\u001b[0maxis\u001b[0m\u001b[0;34m)\u001b[0m\u001b[0;34m.\u001b[0m\u001b[0mequals\u001b[0m\u001b[0;34m(\u001b[0m\u001b[0mself\u001b[0m\u001b[0;34m.\u001b[0m\u001b[0m_get_axis\u001b[0m\u001b[0;34m(\u001b[0m\u001b[0maxis\u001b[0m\u001b[0;34m)\u001b[0m\u001b[0;34m)\u001b[0m\u001b[0;34m:\u001b[0m\u001b[0;34m\u001b[0m\u001b[0;34m\u001b[0m\u001b[0m\n",
      "\u001b[0;32m~/opt/miniconda3/envs/clustcr/lib/python3.8/site-packages/pandas/core/generic.py\u001b[0m in \u001b[0;36mtake\u001b[0;34m(self, indices, axis, is_copy, **kwargs)\u001b[0m\n\u001b[1;32m   3711\u001b[0m         \u001b[0mnv\u001b[0m\u001b[0;34m.\u001b[0m\u001b[0mvalidate_take\u001b[0m\u001b[0;34m(\u001b[0m\u001b[0;34m(\u001b[0m\u001b[0;34m)\u001b[0m\u001b[0;34m,\u001b[0m \u001b[0mkwargs\u001b[0m\u001b[0;34m)\u001b[0m\u001b[0;34m\u001b[0m\u001b[0;34m\u001b[0m\u001b[0m\n\u001b[1;32m   3712\u001b[0m \u001b[0;34m\u001b[0m\u001b[0m\n\u001b[0;32m-> 3713\u001b[0;31m         \u001b[0mself\u001b[0m\u001b[0;34m.\u001b[0m\u001b[0m_consolidate_inplace\u001b[0m\u001b[0;34m(\u001b[0m\u001b[0;34m)\u001b[0m\u001b[0;34m\u001b[0m\u001b[0;34m\u001b[0m\u001b[0m\n\u001b[0m\u001b[1;32m   3714\u001b[0m \u001b[0;34m\u001b[0m\u001b[0m\n\u001b[1;32m   3715\u001b[0m         new_data = self._mgr.take(\n",
      "\u001b[0;32m~/opt/miniconda3/envs/clustcr/lib/python3.8/site-packages/pandas/core/generic.py\u001b[0m in \u001b[0;36m_consolidate_inplace\u001b[0;34m(self)\u001b[0m\n\u001b[1;32m   5659\u001b[0m             \u001b[0mself\u001b[0m\u001b[0;34m.\u001b[0m\u001b[0m_mgr\u001b[0m \u001b[0;34m=\u001b[0m \u001b[0mself\u001b[0m\u001b[0;34m.\u001b[0m\u001b[0m_mgr\u001b[0m\u001b[0;34m.\u001b[0m\u001b[0mconsolidate\u001b[0m\u001b[0;34m(\u001b[0m\u001b[0;34m)\u001b[0m\u001b[0;34m\u001b[0m\u001b[0;34m\u001b[0m\u001b[0m\n\u001b[1;32m   5660\u001b[0m \u001b[0;34m\u001b[0m\u001b[0m\n\u001b[0;32m-> 5661\u001b[0;31m         \u001b[0mself\u001b[0m\u001b[0;34m.\u001b[0m\u001b[0m_protect_consolidate\u001b[0m\u001b[0;34m(\u001b[0m\u001b[0mf\u001b[0m\u001b[0;34m)\u001b[0m\u001b[0;34m\u001b[0m\u001b[0;34m\u001b[0m\u001b[0m\n\u001b[0m\u001b[1;32m   5662\u001b[0m \u001b[0;34m\u001b[0m\u001b[0m\n\u001b[1;32m   5663\u001b[0m     \u001b[0;34m@\u001b[0m\u001b[0mfinal\u001b[0m\u001b[0;34m\u001b[0m\u001b[0;34m\u001b[0m\u001b[0m\n",
      "\u001b[0;32m~/opt/miniconda3/envs/clustcr/lib/python3.8/site-packages/pandas/core/generic.py\u001b[0m in \u001b[0;36m_protect_consolidate\u001b[0;34m(self, f)\u001b[0m\n\u001b[1;32m   5647\u001b[0m             \u001b[0;32mreturn\u001b[0m \u001b[0mf\u001b[0m\u001b[0;34m(\u001b[0m\u001b[0;34m)\u001b[0m\u001b[0;34m\u001b[0m\u001b[0;34m\u001b[0m\u001b[0m\n\u001b[1;32m   5648\u001b[0m         \u001b[0mblocks_before\u001b[0m \u001b[0;34m=\u001b[0m \u001b[0mlen\u001b[0m\u001b[0;34m(\u001b[0m\u001b[0mself\u001b[0m\u001b[0;34m.\u001b[0m\u001b[0m_mgr\u001b[0m\u001b[0;34m.\u001b[0m\u001b[0mblocks\u001b[0m\u001b[0;34m)\u001b[0m\u001b[0;34m\u001b[0m\u001b[0;34m\u001b[0m\u001b[0m\n\u001b[0;32m-> 5649\u001b[0;31m         \u001b[0mresult\u001b[0m \u001b[0;34m=\u001b[0m \u001b[0mf\u001b[0m\u001b[0;34m(\u001b[0m\u001b[0;34m)\u001b[0m\u001b[0;34m\u001b[0m\u001b[0;34m\u001b[0m\u001b[0m\n\u001b[0m\u001b[1;32m   5650\u001b[0m         \u001b[0;32mif\u001b[0m \u001b[0mlen\u001b[0m\u001b[0;34m(\u001b[0m\u001b[0mself\u001b[0m\u001b[0;34m.\u001b[0m\u001b[0m_mgr\u001b[0m\u001b[0;34m.\u001b[0m\u001b[0mblocks\u001b[0m\u001b[0;34m)\u001b[0m \u001b[0;34m!=\u001b[0m \u001b[0mblocks_before\u001b[0m\u001b[0;34m:\u001b[0m\u001b[0;34m\u001b[0m\u001b[0;34m\u001b[0m\u001b[0m\n\u001b[1;32m   5651\u001b[0m             \u001b[0mself\u001b[0m\u001b[0;34m.\u001b[0m\u001b[0m_clear_item_cache\u001b[0m\u001b[0;34m(\u001b[0m\u001b[0;34m)\u001b[0m\u001b[0;34m\u001b[0m\u001b[0;34m\u001b[0m\u001b[0m\n",
      "\u001b[0;32m~/opt/miniconda3/envs/clustcr/lib/python3.8/site-packages/pandas/core/generic.py\u001b[0m in \u001b[0;36mf\u001b[0;34m()\u001b[0m\n\u001b[1;32m   5657\u001b[0m \u001b[0;34m\u001b[0m\u001b[0m\n\u001b[1;32m   5658\u001b[0m         \u001b[0;32mdef\u001b[0m \u001b[0mf\u001b[0m\u001b[0;34m(\u001b[0m\u001b[0;34m)\u001b[0m\u001b[0;34m:\u001b[0m\u001b[0;34m\u001b[0m\u001b[0;34m\u001b[0m\u001b[0m\n\u001b[0;32m-> 5659\u001b[0;31m             \u001b[0mself\u001b[0m\u001b[0;34m.\u001b[0m\u001b[0m_mgr\u001b[0m \u001b[0;34m=\u001b[0m \u001b[0mself\u001b[0m\u001b[0;34m.\u001b[0m\u001b[0m_mgr\u001b[0m\u001b[0;34m.\u001b[0m\u001b[0mconsolidate\u001b[0m\u001b[0;34m(\u001b[0m\u001b[0;34m)\u001b[0m\u001b[0;34m\u001b[0m\u001b[0;34m\u001b[0m\u001b[0m\n\u001b[0m\u001b[1;32m   5660\u001b[0m \u001b[0;34m\u001b[0m\u001b[0m\n\u001b[1;32m   5661\u001b[0m         \u001b[0mself\u001b[0m\u001b[0;34m.\u001b[0m\u001b[0m_protect_consolidate\u001b[0m\u001b[0;34m(\u001b[0m\u001b[0mf\u001b[0m\u001b[0;34m)\u001b[0m\u001b[0;34m\u001b[0m\u001b[0;34m\u001b[0m\u001b[0m\n",
      "\u001b[0;32m~/opt/miniconda3/envs/clustcr/lib/python3.8/site-packages/pandas/core/internals/managers.py\u001b[0m in \u001b[0;36mconsolidate\u001b[0;34m(self)\u001b[0m\n\u001b[1;32m    629\u001b[0m         \u001b[0mbm\u001b[0m \u001b[0;34m=\u001b[0m \u001b[0mtype\u001b[0m\u001b[0;34m(\u001b[0m\u001b[0mself\u001b[0m\u001b[0;34m)\u001b[0m\u001b[0;34m(\u001b[0m\u001b[0mself\u001b[0m\u001b[0;34m.\u001b[0m\u001b[0mblocks\u001b[0m\u001b[0;34m,\u001b[0m \u001b[0mself\u001b[0m\u001b[0;34m.\u001b[0m\u001b[0maxes\u001b[0m\u001b[0;34m,\u001b[0m \u001b[0mverify_integrity\u001b[0m\u001b[0;34m=\u001b[0m\u001b[0;32mFalse\u001b[0m\u001b[0;34m)\u001b[0m\u001b[0;34m\u001b[0m\u001b[0;34m\u001b[0m\u001b[0m\n\u001b[1;32m    630\u001b[0m         \u001b[0mbm\u001b[0m\u001b[0;34m.\u001b[0m\u001b[0m_is_consolidated\u001b[0m \u001b[0;34m=\u001b[0m \u001b[0;32mFalse\u001b[0m\u001b[0;34m\u001b[0m\u001b[0;34m\u001b[0m\u001b[0m\n\u001b[0;32m--> 631\u001b[0;31m         \u001b[0mbm\u001b[0m\u001b[0;34m.\u001b[0m\u001b[0m_consolidate_inplace\u001b[0m\u001b[0;34m(\u001b[0m\u001b[0;34m)\u001b[0m\u001b[0;34m\u001b[0m\u001b[0;34m\u001b[0m\u001b[0m\n\u001b[0m\u001b[1;32m    632\u001b[0m         \u001b[0;32mreturn\u001b[0m \u001b[0mbm\u001b[0m\u001b[0;34m\u001b[0m\u001b[0;34m\u001b[0m\u001b[0m\n\u001b[1;32m    633\u001b[0m \u001b[0;34m\u001b[0m\u001b[0m\n",
      "\u001b[0;32m~/opt/miniconda3/envs/clustcr/lib/python3.8/site-packages/pandas/core/internals/managers.py\u001b[0m in \u001b[0;36m_consolidate_inplace\u001b[0;34m(self)\u001b[0m\n\u001b[1;32m   1683\u001b[0m     \u001b[0;32mdef\u001b[0m \u001b[0m_consolidate_inplace\u001b[0m\u001b[0;34m(\u001b[0m\u001b[0mself\u001b[0m\u001b[0;34m)\u001b[0m \u001b[0;34m->\u001b[0m \u001b[0;32mNone\u001b[0m\u001b[0;34m:\u001b[0m\u001b[0;34m\u001b[0m\u001b[0;34m\u001b[0m\u001b[0m\n\u001b[1;32m   1684\u001b[0m         \u001b[0;32mif\u001b[0m \u001b[0;32mnot\u001b[0m \u001b[0mself\u001b[0m\u001b[0;34m.\u001b[0m\u001b[0mis_consolidated\u001b[0m\u001b[0;34m(\u001b[0m\u001b[0;34m)\u001b[0m\u001b[0;34m:\u001b[0m\u001b[0;34m\u001b[0m\u001b[0;34m\u001b[0m\u001b[0m\n\u001b[0;32m-> 1685\u001b[0;31m             \u001b[0mself\u001b[0m\u001b[0;34m.\u001b[0m\u001b[0mblocks\u001b[0m \u001b[0;34m=\u001b[0m \u001b[0mtuple\u001b[0m\u001b[0;34m(\u001b[0m\u001b[0m_consolidate\u001b[0m\u001b[0;34m(\u001b[0m\u001b[0mself\u001b[0m\u001b[0;34m.\u001b[0m\u001b[0mblocks\u001b[0m\u001b[0;34m)\u001b[0m\u001b[0;34m)\u001b[0m\u001b[0;34m\u001b[0m\u001b[0;34m\u001b[0m\u001b[0m\n\u001b[0m\u001b[1;32m   1686\u001b[0m             \u001b[0mself\u001b[0m\u001b[0;34m.\u001b[0m\u001b[0m_is_consolidated\u001b[0m \u001b[0;34m=\u001b[0m \u001b[0;32mTrue\u001b[0m\u001b[0;34m\u001b[0m\u001b[0;34m\u001b[0m\u001b[0m\n\u001b[1;32m   1687\u001b[0m             \u001b[0mself\u001b[0m\u001b[0;34m.\u001b[0m\u001b[0m_known_consolidated\u001b[0m \u001b[0;34m=\u001b[0m \u001b[0;32mTrue\u001b[0m\u001b[0;34m\u001b[0m\u001b[0;34m\u001b[0m\u001b[0m\n",
      "\u001b[0;32m~/opt/miniconda3/envs/clustcr/lib/python3.8/site-packages/pandas/core/internals/managers.py\u001b[0m in \u001b[0;36m_consolidate\u001b[0;34m(blocks)\u001b[0m\n\u001b[1;32m   2082\u001b[0m     \u001b[0mnew_blocks\u001b[0m\u001b[0;34m:\u001b[0m \u001b[0mlist\u001b[0m\u001b[0;34m[\u001b[0m\u001b[0mBlock\u001b[0m\u001b[0;34m]\u001b[0m \u001b[0;34m=\u001b[0m \u001b[0;34m[\u001b[0m\u001b[0;34m]\u001b[0m\u001b[0;34m\u001b[0m\u001b[0;34m\u001b[0m\u001b[0m\n\u001b[1;32m   2083\u001b[0m     \u001b[0;32mfor\u001b[0m \u001b[0;34m(\u001b[0m\u001b[0m_can_consolidate\u001b[0m\u001b[0;34m,\u001b[0m \u001b[0mdtype\u001b[0m\u001b[0;34m)\u001b[0m\u001b[0;34m,\u001b[0m \u001b[0mgroup_blocks\u001b[0m \u001b[0;32min\u001b[0m \u001b[0mgrouper\u001b[0m\u001b[0;34m:\u001b[0m\u001b[0;34m\u001b[0m\u001b[0;34m\u001b[0m\u001b[0m\n\u001b[0;32m-> 2084\u001b[0;31m         merged_blocks = _merge_blocks(\n\u001b[0m\u001b[1;32m   2085\u001b[0m             \u001b[0mlist\u001b[0m\u001b[0;34m(\u001b[0m\u001b[0mgroup_blocks\u001b[0m\u001b[0;34m)\u001b[0m\u001b[0;34m,\u001b[0m \u001b[0mdtype\u001b[0m\u001b[0;34m=\u001b[0m\u001b[0mdtype\u001b[0m\u001b[0;34m,\u001b[0m \u001b[0mcan_consolidate\u001b[0m\u001b[0;34m=\u001b[0m\u001b[0m_can_consolidate\u001b[0m\u001b[0;34m\u001b[0m\u001b[0;34m\u001b[0m\u001b[0m\n\u001b[1;32m   2086\u001b[0m         )\n",
      "\u001b[0;32m~/opt/miniconda3/envs/clustcr/lib/python3.8/site-packages/pandas/core/internals/managers.py\u001b[0m in \u001b[0;36m_merge_blocks\u001b[0;34m(blocks, dtype, can_consolidate)\u001b[0m\n\u001b[1;32m   2117\u001b[0m         \u001b[0margsort\u001b[0m \u001b[0;34m=\u001b[0m \u001b[0mnp\u001b[0m\u001b[0;34m.\u001b[0m\u001b[0margsort\u001b[0m\u001b[0;34m(\u001b[0m\u001b[0mnew_mgr_locs\u001b[0m\u001b[0;34m)\u001b[0m\u001b[0;34m\u001b[0m\u001b[0;34m\u001b[0m\u001b[0m\n\u001b[1;32m   2118\u001b[0m         \u001b[0mnew_values\u001b[0m \u001b[0;34m=\u001b[0m \u001b[0mnew_values\u001b[0m\u001b[0;34m[\u001b[0m\u001b[0margsort\u001b[0m\u001b[0;34m]\u001b[0m\u001b[0;34m\u001b[0m\u001b[0;34m\u001b[0m\u001b[0m\n\u001b[0;32m-> 2119\u001b[0;31m         \u001b[0mnew_mgr_locs\u001b[0m \u001b[0;34m=\u001b[0m \u001b[0mnew_mgr_locs\u001b[0m\u001b[0;34m[\u001b[0m\u001b[0margsort\u001b[0m\u001b[0;34m]\u001b[0m\u001b[0;34m\u001b[0m\u001b[0;34m\u001b[0m\u001b[0m\n\u001b[0m\u001b[1;32m   2120\u001b[0m \u001b[0;34m\u001b[0m\u001b[0m\n\u001b[1;32m   2121\u001b[0m         \u001b[0mbp\u001b[0m \u001b[0;34m=\u001b[0m \u001b[0mBlockPlacement\u001b[0m\u001b[0;34m(\u001b[0m\u001b[0mnew_mgr_locs\u001b[0m\u001b[0;34m)\u001b[0m\u001b[0;34m\u001b[0m\u001b[0;34m\u001b[0m\u001b[0m\n",
      "\u001b[0;31mKeyboardInterrupt\u001b[0m: "
     ]
    }
   ],
   "source": [
    "combined[combined.index.isin(idx)]"
   ]
  },
  {
   "cell_type": "code",
   "execution_count": 29,
   "metadata": {},
   "outputs": [],
   "source": [
    "combined.to_csv('data/vdjdb_mira.csv')"
   ]
  },
  {
   "cell_type": "code",
   "execution_count": 111,
   "metadata": {},
   "outputs": [],
   "source": []
  },
  {
   "cell_type": "code",
   "execution_count": 83,
   "metadata": {},
   "outputs": [],
   "source": [
    "comb = pd.read_csv('data/combined_cdr3.csv')"
   ]
  },
  {
   "cell_type": "code",
   "execution_count": 69,
   "metadata": {},
   "outputs": [],
   "source": [
    "cdr3s,eps=[mira[col].values for col in ['cdr3.beta','Epitope']]\n"
   ]
  },
  {
   "cell_type": "code",
   "execution_count": 70,
   "metadata": {},
   "outputs": [],
   "source": [
    "hla,pep,gene,org = [[x.split('_')[i] for x in eps.tolist()] for i in range(4)]"
   ]
  },
  {
   "cell_type": "code",
   "execution_count": 71,
   "metadata": {},
   "outputs": [],
   "source": [
    "eps_new = ['mira:'+'_'.join([org[i],gene[i],pep[i]]) for i in range(len(eps))]"
   ]
  },
  {
   "cell_type": "code",
   "execution_count": 74,
   "metadata": {},
   "outputs": [
    {
     "data": {
      "text/html": [
       "<div>\n",
       "<style scoped>\n",
       "    .dataframe tbody tr th:only-of-type {\n",
       "        vertical-align: middle;\n",
       "    }\n",
       "\n",
       "    .dataframe tbody tr th {\n",
       "        vertical-align: top;\n",
       "    }\n",
       "\n",
       "    .dataframe thead th {\n",
       "        text-align: right;\n",
       "    }\n",
       "</style>\n",
       "<table border=\"1\" class=\"dataframe\">\n",
       "  <thead>\n",
       "    <tr style=\"text-align: right;\">\n",
       "      <th></th>\n",
       "      <th>CDR3</th>\n",
       "      <th>Epitope</th>\n",
       "    </tr>\n",
       "  </thead>\n",
       "  <tbody>\n",
       "    <tr>\n",
       "      <th>0</th>\n",
       "      <td>CASSFNPGHPNGYTF</td>\n",
       "      <td>mira:SARS-CoV-2_ORF1ab_TSDLATNNLVVMAY</td>\n",
       "    </tr>\n",
       "    <tr>\n",
       "      <th>1</th>\n",
       "      <td>CASRPPGYNEQFF</td>\n",
       "      <td>mira:SARS-CoV-2_ORF1ab_APKEIIFL</td>\n",
       "    </tr>\n",
       "    <tr>\n",
       "      <th>2</th>\n",
       "      <td>CASRPPGYNEQFF</td>\n",
       "      <td>mira:SARS-CoV-2_ORF1ab_KEIIFLEGETL</td>\n",
       "    </tr>\n",
       "    <tr>\n",
       "      <th>3</th>\n",
       "      <td>CASSLDGSGSYEQYF</td>\n",
       "      <td>mira:SARS-CoV-2_ORF1ab_YLKLTDNVYIK</td>\n",
       "    </tr>\n",
       "    <tr>\n",
       "      <th>4</th>\n",
       "      <td>CASSYMGFGAEAFF</td>\n",
       "      <td>mira:SARS-CoV-2_ORF1ab,ORF3a_AEIPKEEVKPF</td>\n",
       "    </tr>\n",
       "    <tr>\n",
       "      <th>...</th>\n",
       "      <td>...</td>\n",
       "      <td>...</td>\n",
       "    </tr>\n",
       "    <tr>\n",
       "      <th>630383</th>\n",
       "      <td>CASSSSGNTEAFF</td>\n",
       "      <td>mira:SARS-CoV-2_ORF8_YEDFLEYHDVRVVL</td>\n",
       "    </tr>\n",
       "    <tr>\n",
       "      <th>630384</th>\n",
       "      <td>CASSEVVSPGSSVRDEQFF</td>\n",
       "      <td>mira:SARS-CoV-2_nucleocapsid phosphoprotein_LS...</td>\n",
       "    </tr>\n",
       "    <tr>\n",
       "      <th>630385</th>\n",
       "      <td>CASSEVVSPGSSVRDEQFF</td>\n",
       "      <td>mira:SARS-CoV-2_nucleocapsid phosphoprotein_SP...</td>\n",
       "    </tr>\n",
       "    <tr>\n",
       "      <th>630386</th>\n",
       "      <td>CASSAAETSGSGETQYF</td>\n",
       "      <td>mira:SARS-CoV-2_nucleocapsid phosphoprotein_LS...</td>\n",
       "    </tr>\n",
       "    <tr>\n",
       "      <th>630387</th>\n",
       "      <td>CASSAAETSGSGETQYF</td>\n",
       "      <td>mira:SARS-CoV-2_nucleocapsid phosphoprotein_SP...</td>\n",
       "    </tr>\n",
       "  </tbody>\n",
       "</table>\n",
       "<p>630388 rows × 2 columns</p>\n",
       "</div>"
      ],
      "text/plain": [
       "                       CDR3                                            Epitope\n",
       "0           CASSFNPGHPNGYTF              mira:SARS-CoV-2_ORF1ab_TSDLATNNLVVMAY\n",
       "1             CASRPPGYNEQFF                    mira:SARS-CoV-2_ORF1ab_APKEIIFL\n",
       "2             CASRPPGYNEQFF                 mira:SARS-CoV-2_ORF1ab_KEIIFLEGETL\n",
       "3           CASSLDGSGSYEQYF                 mira:SARS-CoV-2_ORF1ab_YLKLTDNVYIK\n",
       "4            CASSYMGFGAEAFF           mira:SARS-CoV-2_ORF1ab,ORF3a_AEIPKEEVKPF\n",
       "...                     ...                                                ...\n",
       "630383        CASSSSGNTEAFF                mira:SARS-CoV-2_ORF8_YEDFLEYHDVRVVL\n",
       "630384  CASSEVVSPGSSVRDEQFF  mira:SARS-CoV-2_nucleocapsid phosphoprotein_LS...\n",
       "630385  CASSEVVSPGSSVRDEQFF  mira:SARS-CoV-2_nucleocapsid phosphoprotein_SP...\n",
       "630386    CASSAAETSGSGETQYF  mira:SARS-CoV-2_nucleocapsid phosphoprotein_LS...\n",
       "630387    CASSAAETSGSGETQYF  mira:SARS-CoV-2_nucleocapsid phosphoprotein_SP...\n",
       "\n",
       "[630388 rows x 2 columns]"
      ]
     },
     "execution_count": 74,
     "metadata": {},
     "output_type": "execute_result"
    }
   ],
   "source": [
    "mira_ref = pd.DataFrame([cdr3s,eps_new]).T\n",
    "mira_ref.columns=['CDR3','Epitope']\n",
    "mira_ref"
   ]
  },
  {
   "cell_type": "code",
   "execution_count": 84,
   "metadata": {},
   "outputs": [],
   "source": [
    "comb=pd.concat([comb,mira_ref])"
   ]
  },
  {
   "cell_type": "code",
   "execution_count": 86,
   "metadata": {},
   "outputs": [],
   "source": [
    "comb=comb.drop(columns=['Unnamed: 0'])"
   ]
  },
  {
   "cell_type": "code",
   "execution_count": 96,
   "metadata": {},
   "outputs": [],
   "source": [
    "comb=comb.replace(np.nan,'NA')"
   ]
  },
  {
   "cell_type": "code",
   "execution_count": 98,
   "metadata": {},
   "outputs": [],
   "source": [
    "cdr3na, epna = [np.where(comb[x]=='NA') for x in ['CDR3','Epitope']]"
   ]
  },
  {
   "cell_type": "code",
   "execution_count": 100,
   "metadata": {},
   "outputs": [],
   "source": [
    "comb=comb[~comb.index.isin(cdr3na+epna)]"
   ]
  },
  {
   "cell_type": "code",
   "execution_count": 102,
   "metadata": {},
   "outputs": [
    {
     "data": {
      "text/html": [
       "<div>\n",
       "<style scoped>\n",
       "    .dataframe tbody tr th:only-of-type {\n",
       "        vertical-align: middle;\n",
       "    }\n",
       "\n",
       "    .dataframe tbody tr th {\n",
       "        vertical-align: top;\n",
       "    }\n",
       "\n",
       "    .dataframe thead th {\n",
       "        text-align: right;\n",
       "    }\n",
       "</style>\n",
       "<table border=\"1\" class=\"dataframe\">\n",
       "  <thead>\n",
       "    <tr style=\"text-align: right;\">\n",
       "      <th></th>\n",
       "      <th>CDR3</th>\n",
       "      <th>Epitope</th>\n",
       "    </tr>\n",
       "  </thead>\n",
       "  <tbody>\n",
       "    <tr>\n",
       "      <th>0</th>\n",
       "      <td>CASSYSWGEQFF</td>\n",
       "      <td>giana:FNDC3B-VVL_L3M</td>\n",
       "    </tr>\n",
       "    <tr>\n",
       "      <th>1</th>\n",
       "      <td>CASTHWERVDEQFF</td>\n",
       "      <td>giana:OR6F1-VLN</td>\n",
       "    </tr>\n",
       "    <tr>\n",
       "      <th>2</th>\n",
       "      <td>CASSYGVNTEAFF</td>\n",
       "      <td>giana:OR14C36-FML_V6L</td>\n",
       "    </tr>\n",
       "    <tr>\n",
       "      <th>3</th>\n",
       "      <td>CAISRGDTEAFF</td>\n",
       "      <td>giana:TTLL12-KLP_N7D</td>\n",
       "    </tr>\n",
       "    <tr>\n",
       "      <th>4</th>\n",
       "      <td>CATSAKTRLNTEAFF</td>\n",
       "      <td>giana:ME1-FLD_A8G</td>\n",
       "    </tr>\n",
       "    <tr>\n",
       "      <th>...</th>\n",
       "      <td>...</td>\n",
       "      <td>...</td>\n",
       "    </tr>\n",
       "    <tr>\n",
       "      <th>630383</th>\n",
       "      <td>CASSSSGNTEAFF</td>\n",
       "      <td>mira:SARS-CoV-2_ORF8_YEDFLEYHDVRVVL</td>\n",
       "    </tr>\n",
       "    <tr>\n",
       "      <th>630384</th>\n",
       "      <td>CASSEVVSPGSSVRDEQFF</td>\n",
       "      <td>mira:SARS-CoV-2_nucleocapsid phosphoprotein_LS...</td>\n",
       "    </tr>\n",
       "    <tr>\n",
       "      <th>630385</th>\n",
       "      <td>CASSEVVSPGSSVRDEQFF</td>\n",
       "      <td>mira:SARS-CoV-2_nucleocapsid phosphoprotein_SP...</td>\n",
       "    </tr>\n",
       "    <tr>\n",
       "      <th>630386</th>\n",
       "      <td>CASSAAETSGSGETQYF</td>\n",
       "      <td>mira:SARS-CoV-2_nucleocapsid phosphoprotein_LS...</td>\n",
       "    </tr>\n",
       "    <tr>\n",
       "      <th>630387</th>\n",
       "      <td>CASSAAETSGSGETQYF</td>\n",
       "      <td>mira:SARS-CoV-2_nucleocapsid phosphoprotein_SP...</td>\n",
       "    </tr>\n",
       "  </tbody>\n",
       "</table>\n",
       "<p>815843 rows × 2 columns</p>\n",
       "</div>"
      ],
      "text/plain": [
       "                       CDR3                                            Epitope\n",
       "0              CASSYSWGEQFF                               giana:FNDC3B-VVL_L3M\n",
       "1            CASTHWERVDEQFF                                    giana:OR6F1-VLN\n",
       "2             CASSYGVNTEAFF                              giana:OR14C36-FML_V6L\n",
       "3              CAISRGDTEAFF                               giana:TTLL12-KLP_N7D\n",
       "4           CATSAKTRLNTEAFF                                  giana:ME1-FLD_A8G\n",
       "...                     ...                                                ...\n",
       "630383        CASSSSGNTEAFF                mira:SARS-CoV-2_ORF8_YEDFLEYHDVRVVL\n",
       "630384  CASSEVVSPGSSVRDEQFF  mira:SARS-CoV-2_nucleocapsid phosphoprotein_LS...\n",
       "630385  CASSEVVSPGSSVRDEQFF  mira:SARS-CoV-2_nucleocapsid phosphoprotein_SP...\n",
       "630386    CASSAAETSGSGETQYF  mira:SARS-CoV-2_nucleocapsid phosphoprotein_LS...\n",
       "630387    CASSAAETSGSGETQYF  mira:SARS-CoV-2_nucleocapsid phosphoprotein_SP...\n",
       "\n",
       "[815843 rows x 2 columns]"
      ]
     },
     "execution_count": 102,
     "metadata": {},
     "output_type": "execute_result"
    }
   ],
   "source": [
    "comb"
   ]
  },
  {
   "cell_type": "code",
   "execution_count": 103,
   "metadata": {},
   "outputs": [],
   "source": [
    "comb.to_csv('data/combined_cdr3_2.csv')"
   ]
  },
  {
   "cell_type": "code",
   "execution_count": 6,
   "metadata": {},
   "outputs": [
    {
     "name": "stderr",
     "output_type": "stream",
     "text": [
      "/var/folders/rn/d8fnv5qx1tn2vqzsj5c5dftw0000gn/T/ipykernel_5365/3066700457.py:1: DtypeWarning: Columns (1,2,3,6,11,16) have mixed types. Specify dtype option on import or set low_memory=False.\n",
      "  combined=pd.read_csv('data/vdjdb_mira.csv')\n"
     ]
    }
   ],
   "source": [
    "combined=pd.read_csv('data/vdjdb_mira.csv')"
   ]
  },
  {
   "cell_type": "code",
   "execution_count": 11,
   "metadata": {},
   "outputs": [],
   "source": [
    "combined=combined.dropna(subset=['cdr3.beta'])"
   ]
  },
  {
   "cell_type": "code",
   "execution_count": 23,
   "metadata": {},
   "outputs": [],
   "source": [
    "alphabet=list(set(np.concatenate([[aa for aa in cdr3] for cdr3 in combined['cdr3.beta'].unique()])))"
   ]
  },
  {
   "cell_type": "code",
   "execution_count": 24,
   "metadata": {},
   "outputs": [
    {
     "data": {
      "text/plain": [
       "['L',\n",
       " 'G',\n",
       " 'Y',\n",
       " 'A',\n",
       " 'E',\n",
       " 'C',\n",
       " 'T',\n",
       " 'D',\n",
       " 'H',\n",
       " 'F',\n",
       " 'O',\n",
       " 'W',\n",
       " 'K',\n",
       " 'S',\n",
       " 'U',\n",
       " 'I',\n",
       " 'Q',\n",
       " 'V',\n",
       " 'N',\n",
       " 'P',\n",
       " 'M',\n",
       " 'R']"
      ]
     },
     "execution_count": 24,
     "metadata": {},
     "output_type": "execute_result"
    }
   ],
   "source": [
    "alphabet"
   ]
  },
  {
   "cell_type": "code",
   "execution_count": 17,
   "metadata": {},
   "outputs": [],
   "source": [
    "oovs = [x for x in combined['cdr3.beta'].values if ('*' in x)|('U' in x)]\n",
    "combined = combined[~combined['cdr3.beta'].isin(oovs)]"
   ]
  },
  {
   "cell_type": "code",
   "execution_count": 21,
   "metadata": {},
   "outputs": [],
   "source": [
    "combined['cdr3.beta']=[x.upper() for x in combined['cdr3.beta'].values]\n",
    "combined['cdr3.alpha']=[x if type(x) == float else x.upper() for x in combined['cdr3.alpha'].values]"
   ]
  },
  {
   "cell_type": "code",
   "execution_count": 22,
   "metadata": {},
   "outputs": [],
   "source": [
    "combined.to_csv('data/vdjdb_mira.csv')"
   ]
  },
  {
   "cell_type": "code",
   "execution_count": 44,
   "metadata": {},
   "outputs": [
    {
     "data": {
      "text/html": [
       "<div>\n",
       "<style scoped>\n",
       "    .dataframe tbody tr th:only-of-type {\n",
       "        vertical-align: middle;\n",
       "    }\n",
       "\n",
       "    .dataframe tbody tr th {\n",
       "        vertical-align: top;\n",
       "    }\n",
       "\n",
       "    .dataframe thead th {\n",
       "        text-align: right;\n",
       "    }\n",
       "</style>\n",
       "<table border=\"1\" class=\"dataframe\">\n",
       "  <thead>\n",
       "    <tr style=\"text-align: right;\">\n",
       "      <th></th>\n",
       "      <th>Unnamed: 0</th>\n",
       "      <th>CDR3</th>\n",
       "      <th>Epitope</th>\n",
       "    </tr>\n",
       "  </thead>\n",
       "  <tbody>\n",
       "    <tr>\n",
       "      <th>61367</th>\n",
       "      <td>0</td>\n",
       "      <td>CIVRAPGRADMRF</td>\n",
       "      <td>vdjdb: HIV-1-Nef_FLKEKGGL</td>\n",
       "    </tr>\n",
       "    <tr>\n",
       "      <th>61368</th>\n",
       "      <td>1</td>\n",
       "      <td>NaN</td>\n",
       "      <td>vdjdb: HIV-1-Nef_FLKEKGGL</td>\n",
       "    </tr>\n",
       "    <tr>\n",
       "      <th>61369</th>\n",
       "      <td>2</td>\n",
       "      <td>CAVPSGAGSYQLTF</td>\n",
       "      <td>vdjdb: HIV-1-Nef_FLKEKGGL</td>\n",
       "    </tr>\n",
       "    <tr>\n",
       "      <th>61370</th>\n",
       "      <td>3</td>\n",
       "      <td>CAVKASGSRLT</td>\n",
       "      <td>vdjdb: HIV-1-Nef_FLKEKGGL</td>\n",
       "    </tr>\n",
       "    <tr>\n",
       "      <th>61371</th>\n",
       "      <td>4</td>\n",
       "      <td>CAYRPPGTYKYIF</td>\n",
       "      <td>vdjdb: HIV-1-Nef_FLKEKGGL</td>\n",
       "    </tr>\n",
       "    <tr>\n",
       "      <th>...</th>\n",
       "      <td>...</td>\n",
       "      <td>...</td>\n",
       "      <td>...</td>\n",
       "    </tr>\n",
       "    <tr>\n",
       "      <th>158710</th>\n",
       "      <td>53576</td>\n",
       "      <td>CSARGGAVFYEQYF</td>\n",
       "      <td>vdjdb: HIV-1-Gag_KRWIIMGLNK</td>\n",
       "    </tr>\n",
       "    <tr>\n",
       "      <th>158711</th>\n",
       "      <td>53577</td>\n",
       "      <td>CASSDLTGTVYNEQFF</td>\n",
       "      <td>vdjdb: HIV-1-Gag_KRWIIMGLNK</td>\n",
       "    </tr>\n",
       "    <tr>\n",
       "      <th>158712</th>\n",
       "      <td>53578</td>\n",
       "      <td>CSAWGGSVFYEQYF</td>\n",
       "      <td>vdjdb: HIV-1-Gag_KRWIIMGLNK</td>\n",
       "    </tr>\n",
       "    <tr>\n",
       "      <th>158713</th>\n",
       "      <td>53579</td>\n",
       "      <td>CSARGRERFYEQYF</td>\n",
       "      <td>vdjdb: HIV-1-Gag_KRWIIMGLNK</td>\n",
       "    </tr>\n",
       "    <tr>\n",
       "      <th>158714</th>\n",
       "      <td>53580</td>\n",
       "      <td>CASSPGVADTQYF</td>\n",
       "      <td>vdjdb: HIV-1-Gag_KRWIIMGLNK</td>\n",
       "    </tr>\n",
       "  </tbody>\n",
       "</table>\n",
       "<p>97348 rows × 3 columns</p>\n",
       "</div>"
      ],
      "text/plain": [
       "        Unnamed: 0              CDR3                      Epitope\n",
       "61367            0     CIVRAPGRADMRF    vdjdb: HIV-1-Nef_FLKEKGGL\n",
       "61368            1               NaN    vdjdb: HIV-1-Nef_FLKEKGGL\n",
       "61369            2    CAVPSGAGSYQLTF    vdjdb: HIV-1-Nef_FLKEKGGL\n",
       "61370            3       CAVKASGSRLT    vdjdb: HIV-1-Nef_FLKEKGGL\n",
       "61371            4     CAYRPPGTYKYIF    vdjdb: HIV-1-Nef_FLKEKGGL\n",
       "...            ...               ...                          ...\n",
       "158710       53576    CSARGGAVFYEQYF  vdjdb: HIV-1-Gag_KRWIIMGLNK\n",
       "158711       53577  CASSDLTGTVYNEQFF  vdjdb: HIV-1-Gag_KRWIIMGLNK\n",
       "158712       53578    CSAWGGSVFYEQYF  vdjdb: HIV-1-Gag_KRWIIMGLNK\n",
       "158713       53579    CSARGRERFYEQYF  vdjdb: HIV-1-Gag_KRWIIMGLNK\n",
       "158714       53580     CASSPGVADTQYF  vdjdb: HIV-1-Gag_KRWIIMGLNK\n",
       "\n",
       "[97348 rows x 3 columns]"
      ]
     },
     "execution_count": 44,
     "metadata": {},
     "output_type": "execute_result"
    }
   ],
   "source": [
    "vdjdb=[ep for ep in comb['Epitope'] if 'vdjdb' in ep]\n",
    "comb[comb['Epitope'].isin(vdjdb)]"
   ]
  },
  {
   "cell_type": "code",
   "execution_count": null,
   "metadata": {},
   "outputs": [],
   "source": []
  },
  {
   "cell_type": "code",
   "execution_count": 34,
   "metadata": {},
   "outputs": [
    {
     "data": {
      "text/plain": [
       "Unnamed: 0                       0\n",
       "CDR3                  CASSYSWGEQFF\n",
       "Epitope       giana:FNDC3B-VVL_L3M\n",
       "Name: 0, dtype: object"
      ]
     },
     "execution_count": 34,
     "metadata": {},
     "output_type": "execute_result"
    }
   ],
   "source": [
    "comb.iloc[0]"
   ]
  },
  {
   "cell_type": "code",
   "execution_count": null,
   "metadata": {},
   "outputs": [],
   "source": [
    "tcra,tcrb = [tcrs[x].values.tolist() for x in ['cdr3.alpha','cdr3.beta']]"
   ]
  },
  {
   "cell_type": "code",
   "execution_count": null,
   "metadata": {},
   "outputs": [],
   "source": [
    "reftest = [tcr in refs['CDR3'] for tcr in tcrs]"
   ]
  },
  {
   "cell_type": "code",
   "execution_count": null,
   "metadata": {},
   "outputs": [],
   "source": [
    "mira = pd.read_csv('/Users/danhudson/Documents/Academic/Oxford/Oxford_DPhil/Rotation_Projects/Hashem/clusTCR/tcr_compare/data/MIRA_trimmed3.csv',index_col=0) \n"
   ]
  },
  {
   "cell_type": "code",
   "execution_count": null,
   "metadata": {},
   "outputs": [],
   "source": [
    "refbeta = [tcr in mira['cdr3.beta'] for tcr in tcrb]\n",
    "True in refbeta"
   ]
  },
  {
   "cell_type": "code",
   "execution_count": null,
   "metadata": {},
   "outputs": [],
   "source": [
    "nodelist = '/Users/danhudson/Documents/Academic/Oxford/Oxford_DPhil/Software/clusTCR/tcr_compare/cytoscape/20220503_133906_ORF3a_data.csv/tcrdist3_paired_ORF3a_data.csv_nodelist.txt'"
   ]
  },
  {
   "cell_type": "code",
   "execution_count": null,
   "metadata": {},
   "outputs": [],
   "source": [
    "nodes = pd.read_csv(nodelist)"
   ]
  },
  {
   "cell_type": "code",
   "execution_count": null,
   "metadata": {},
   "outputs": [],
   "source": [
    "nodecheckbeta= [tcr in nodes['CDR3'].values for tcr in tcrb]\n",
    "nodecheckalpha= [tcr in nodes['CDR3'].values for tcr in tcra]\n",
    "covered = zip(nodecheckalpha,nodecheckbeta)"
   ]
  },
  {
   "cell_type": "code",
   "execution_count": null,
   "metadata": {},
   "outputs": [],
   "source": [
    "list(covered)"
   ]
  },
  {
   "cell_type": "code",
   "execution_count": null,
   "metadata": {},
   "outputs": [],
   "source": [
    "out=[]\n",
    "for i, tcrcheck in enumerate(list(covered)):\n",
    "    print(tcrcheck)\n",
    "    if True in tcrcheck:\n",
    "        out.append(nodes.iloc[i]['cluster'])\n",
    "    else:\n",
    "        out.append('NA')\n",
    "tcrs['cluster'] = out\n"
   ]
  },
  {
   "cell_type": "code",
   "execution_count": null,
   "metadata": {},
   "outputs": [],
   "source": [
    "tcrs['cluster']"
   ]
  },
  {
   "cell_type": "code",
   "execution_count": null,
   "metadata": {},
   "outputs": [],
   "source": [
    "nodes[nodes['cluster']==436]['Epitope'].value_counts()"
   ]
  },
  {
   "cell_type": "code",
   "execution_count": null,
   "metadata": {},
   "outputs": [],
   "source": [
    "subset=nodes[nodes['CDR3'].isin(tcrb)]\n",
    "\n",
    "eps_arr=dict()\n",
    "for i,cdr3 in enumerate(subset['CDR3'].unique()):\n",
    "    cluster = subset.iloc[i]['cluster']\n",
    "    if cluster=='NA':\n",
    "        eps_arr[i]='NA'\n",
    "    else:\n",
    "        eps = nodes[nodes['cluster']==cluster]['Epitope'].value_counts()\n",
    "        eps_arr[i]=eps\n",
    "\n"
   ]
  },
  {
   "cell_type": "code",
   "execution_count": null,
   "metadata": {},
   "outputs": [],
   "source": [
    "tcrs['cluster_epcounts']=tcrs[eps_arr\n"
   ]
  },
  {
   "cell_type": "code",
   "execution_count": null,
   "metadata": {},
   "outputs": [],
   "source": [
    "subset.iloc[0]['cluster_epitopes']()"
   ]
  }
 ],
 "metadata": {
  "interpreter": {
   "hash": "3c7765b43df94048ac26994637e5c257f45f7967c454318d1016d737cb59edba"
  },
  "kernelspec": {
   "display_name": "Python 3.8.12 ('clusTCR5')",
   "language": "python",
   "name": "python3"
  },
  "language_info": {
   "codemirror_mode": {
    "name": "ipython",
    "version": 3
   },
   "file_extension": ".py",
   "mimetype": "text/x-python",
   "name": "python",
   "nbconvert_exporter": "python",
   "pygments_lexer": "ipython3",
   "version": "3.8.12"
  },
  "orig_nbformat": 4
 },
 "nbformat": 4,
 "nbformat_minor": 2
}
